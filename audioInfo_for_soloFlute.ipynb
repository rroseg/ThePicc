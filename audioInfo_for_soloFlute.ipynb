{
 "cells": [
  {
   "cell_type": "markdown",
   "metadata": {},
   "source": [
    "## Merge Flute World and Spotify to SQL Database for Solo Flute Music\n",
    "The same can be done for flute and piano music, etc."
   ]
  },
  {
   "cell_type": "code",
   "execution_count": 1,
   "metadata": {
    "collapsed": true
   },
   "outputs": [],
   "source": [
    "# Import necessary packages\n",
    "from selenium import webdriver\n",
    "from selenium.webdriver.common.keys import Keys\n",
    "from time import sleep\n",
    "import spotipy, requests, re, json\n",
    "from spotipy.oauth2 import SpotifyClientCredentials\n",
    "import pickle"
   ]
  },
  {
   "cell_type": "markdown",
   "metadata": {},
   "source": [
    "## Step 0\n",
    "Scrape music from fluteworld.com with Selenium."
   ]
  },
  {
   "cell_type": "code",
   "execution_count": null,
   "metadata": {
    "collapsed": true
   },
   "outputs": [],
   "source": [
    "# Scrape FluteWorld for solo flute music. When finished, save output as txt file to be imported at Step 1.\n",
    "path_to_firefoxDriver = 'yourPath_with_geckodriver'\n",
    "driver = webdriver.Firefox(executable_path=path_to_firefoxDriver)\n",
    "driver.get(\"https://www.fluteworld.com/Unaccompanied-Flute--03-.html\")\n",
    "assert \"Flute\" in driver.title\n",
    "\n",
    "# wait for page to load\n",
    "sleep(120)\n",
    "\n",
    "# from stack overflow to scroll to bottom of page https://stackoverflow.com/a/28928684/1316860\n",
    "SCROLL_PAUSE_TIME = 60\n",
    "\n",
    "# Get scroll height\n",
    "last_height = driver.execute_script(\"return document.body.scrollHeight\")\n",
    "\n",
    "while True:\n",
    "    # Scroll down to bottom\n",
    "    driver.execute_script(\"window.scrollTo(0, document.body.scrollHeight);\")\n",
    "\n",
    "    # Wait to load page\n",
    "    sleep(SCROLL_PAUSE_TIME)\n",
    "\n",
    "    # Calculate new scroll height and compare with last scroll height\n",
    "    new_height = driver.execute_script(\"return document.body.scrollHeight\")\n",
    "    if new_height == last_height:\n",
    "        break\n",
    "    last_height = new_height\n",
    "\n",
    "elem = driver.find_element_by_css_selector(\".site-inner\")\n",
    "print(elem.text)\n",
    "\n",
    "driver.close()"
   ]
  },
  {
   "cell_type": "markdown",
   "metadata": {},
   "source": [
    "## Step 1\n",
    "\n",
    "Import scraped music from fluteworld.com with selenium (Flute Solo Music) and get into useable list grouped by piece"
   ]
  },
  {
   "cell_type": "code",
   "execution_count": 70,
   "metadata": {
    "collapsed": true
   },
   "outputs": [],
   "source": [
    "# Import previously scraped Flute Solo Music from Fluteworld.com using Selenium\n",
    "\n",
    "myFile = open('Flute World Flute Solo List')\n",
    "readtext = myFile.readlines()"
   ]
  },
  {
   "cell_type": "code",
   "execution_count": 73,
   "metadata": {},
   "outputs": [
    {
     "name": "stdout",
     "output_type": "stream",
     "text": [
      "731\n"
     ]
    }
   ],
   "source": [
    "# Group entire webpage into groups by piece. \n",
    "# May include extraneous data or missing data \n",
    "# (ie no Grade, or a line with \"DIGITAL DOWNLOAD ONLY\")\n",
    "\n",
    "groups = []\n",
    "group = []\n",
    "for line in readtext:\n",
    "    group.append(line)\n",
    "    if re.search(r'Our Price', line):\n",
    "        groups.append(group)\n",
    "        group = []\n",
    "print(len(groups))"
   ]
  },
  {
   "cell_type": "code",
   "execution_count": 74,
   "metadata": {
    "collapsed": true,
    "scrolled": true
   },
   "outputs": [],
   "source": [
    "# Create list of pieces with title, composer, and grade from FW\n",
    "pieces = []\n",
    "id_num = 30000 # starts with 3 to indicate flute solo (naming scheme from FW)\n",
    "for group in groups:\n",
    "    # title of piece\n",
    "    title = group[0].split('\\n')[0]\n",
    "    \n",
    "    for entry in group:\n",
    "        # grade of piece\n",
    "        matchGrade = re.search(r'Grade\\s*:\\s*.*',entry)\n",
    "        if matchGrade:\n",
    "            gradeEntry = matchGrade.group(0).split(': ')\n",
    "            grade = gradeEntry[1]\n",
    "        \n",
    "        # composer of piece\n",
    "        matchComposer = re.search(r'Composer\\(s\\) : .*',entry)\n",
    "        if matchComposer:\n",
    "            composerEntry = matchComposer.group(0).split(': ')\n",
    "            composer = composerEntry[1]\n",
    "    \n",
    "    piece = [str(id_num), title, composer, grade]\n",
    "    \n",
    "    id_num = id_num + 1\n",
    "    \n",
    "    pieces.append(piece)\n",
    "    \n",
    "    # Reset variables\n",
    "    title = []\n",
    "    composer = []\n",
    "    grade = []\n"
   ]
  },
  {
   "cell_type": "markdown",
   "metadata": {},
   "source": [
    "## Step 2\n",
    "Use list from fluteworld to get audio information from spotify."
   ]
  },
  {
   "cell_type": "code",
   "execution_count": 82,
   "metadata": {
    "collapsed": true
   },
   "outputs": [],
   "source": [
    "# Spotipy ID, secret for Spotify Web API\n",
    "client_id = 'yourID'\n",
    "client_secret = 'yourSecret'\n",
    "\n",
    "client_credentials_manager = SpotifyClientCredentials(client_id, client_secret)\n",
    "sp = spotipy.Spotify(client_credentials_manager=client_credentials_manager)"
   ]
  },
  {
   "cell_type": "code",
   "execution_count": 83,
   "metadata": {},
   "outputs": [
    {
     "name": "stdout",
     "output_type": "stream",
     "text": [
      "453\n",
      "278\n"
     ]
    }
   ],
   "source": [
    "# To Find Spotify Track ID\n",
    "count = 0\n",
    "count2 = 0\n",
    "\n",
    "for piece in pieces:\n",
    "    titleStr = piece[1]\n",
    "    if '(' in titleStr:\n",
    "        titleStr = titleStr.split('(')\n",
    "        titleStr = titleStr[0]\n",
    "\n",
    "    composerStr = piece[2]\n",
    "    if ',' in composerStr:\n",
    "        composerStr = composerStr.split(',')\n",
    "        composerStr = composerStr[0] + ' ' + composerStr[1]\n",
    "    \n",
    "    searchStr = titleStr + ' ' + composerStr\n",
    "    \n",
    "    result = sp.search(searchStr)\n",
    "    \n",
    "    # Test if result is null - if not, continue to get audio analysis!\n",
    "    resultTrack = result['tracks']\n",
    "    if resultTrack['items'] == []:\n",
    "        piece.append([])\n",
    "        piece.append([])\n",
    "        count = count + 1\n",
    "    else:\n",
    "        resultItem = resultTrack['items']\n",
    "        resultItem1 = resultItem[0]\n",
    "        piece.append(resultItem1['id'])\n",
    "        piece.append(resultItem1['name'])\n",
    "        \n",
    "        count2 = count2 + 1      \n",
    "print(count)\n",
    "print(count2)\n"
   ]
  },
  {
   "cell_type": "code",
   "execution_count": 92,
   "metadata": {},
   "outputs": [
    {
     "name": "stdout",
     "output_type": "stream",
     "text": [
      "[['30001', 'Breath of Souls: Five Waiata for Solo Flute', 'ADAMS,PETER', '3-3+', [], []], ['30002', 'Vocalise for solo flute', 'ADASKIN', '2-2+', [], []], ['30003', 'A Bonnie Tune', 'ADLER', '3', [], []], ['30004', 'Flaunting', 'ADLER', '3', [], []], ['30005', 'Solo III', 'AHO', '4+', '0Mturv73oMZdljedKgYvHs', 'Oboe Sonata: III. —'], ['30006', 'Icicle', 'AITKEN', '3+', '5YgaSMeO5yHTVtdyPieEnd', 'Icicle'], ['30007', 'Plainsong', 'AITKEN', '5', '5cxz2J7FpgkK2ZYytaHcqZ', 'Plainsong'], ['30008', 'Sephardic Anthology', 'AKIVA', '2-3', [], []], ['30009', 'Three Pieces for Flute Solo', 'AKIVA', '3+', '10A3bOPmyGvN5tWD4MzGAZ', 'Three pieces for flute solo: III. Ven querida']]\n"
     ]
    }
   ],
   "source": [
    "print(pieces[1:10])"
   ]
  },
  {
   "cell_type": "code",
   "execution_count": 93,
   "metadata": {
    "collapsed": true
   },
   "outputs": [],
   "source": [
    "# Extract Audio Data\n",
    "# CHANGE TESTSET!!!\n",
    "\n",
    "prev = []\n",
    "piecesAudio = []\n",
    "\n",
    "for piece in pieces:\n",
    "    track_id = piece[4]\n",
    "    if track_id != []:\n",
    "        if track_id != prev:\n",
    "            prev = track_id\n",
    "            \n",
    "            track_info = sp.audio_analysis(track_id)\n",
    "            trackDetails = track_info['track']\n",
    "            \n",
    "            duration = trackDetails['duration']\n",
    "            tempo = trackDetails['tempo']\n",
    "            tempo_confidence = trackDetails['tempo_confidence']\n",
    "            time_signature = trackDetails['time_signature']\n",
    "            time_signature_confidence = trackDetails['time_signature_confidence']\n",
    "            key = trackDetails['key']\n",
    "            key_confidence = trackDetails['key_confidence']\n",
    "            mode = trackDetails['mode']\n",
    "            mode_confidence = trackDetails['mode_confidence']\n",
    "            \n",
    "            pieceAudio = piece\n",
    "            pieceAudio.append(duration)\n",
    "            pieceAudio.append(tempo)\n",
    "            pieceAudio.append(tempo_confidence)\n",
    "            pieceAudio.append(time_signature)\n",
    "            pieceAudio.append(time_signature_confidence)\n",
    "            pieceAudio.append(key)\n",
    "            pieceAudio.append(key_confidence)\n",
    "            pieceAudio.append(mode)\n",
    "            pieceAudio.append(mode_confidence)\n",
    "            \n",
    "            piecesAudio.append(pieceAudio)\n",
    "        \n"
   ]
  },
  {
   "cell_type": "markdown",
   "metadata": {},
   "source": [
    "## Step 3\n",
    "Save data from above (audioPieces) with pickle."
   ]
  },
  {
   "cell_type": "code",
   "execution_count": 104,
   "metadata": {
    "collapsed": true
   },
   "outputs": [],
   "source": [
    "pickling_on = open(\"piecesAudioALLSOLOFLUTE.pickle\",\"wb\")\n",
    "pickle.dump(piecesAudio, pickling_on)\n",
    "pickling_on.close()"
   ]
  },
  {
   "cell_type": "markdown",
   "metadata": {
    "collapsed": true
   },
   "source": [
    "## Step 4\n",
    "Retrieve saved data from pickle"
   ]
  },
  {
   "cell_type": "code",
   "execution_count": 3,
   "metadata": {
    "collapsed": true
   },
   "outputs": [],
   "source": [
    "def unpickle(pickleFile):\n",
    "    \"\"\"Unpickle saved data set\"\"\"\n",
    "    #pickleFile = \"piecesAudioALLSOLO.pickle\"\n",
    "    pickle_off = open(pickleFile,\"rb\")\n",
    "    piecesAudio = pickle.load(pickle_off)\n",
    "    \n",
    "    return piecesAudio"
   ]
  },
  {
   "cell_type": "code",
   "execution_count": 4,
   "metadata": {},
   "outputs": [
    {
     "name": "stdout",
     "output_type": "stream",
     "text": [
      "219\n"
     ]
    }
   ],
   "source": [
    "pickleFile = \"piecesAudioALLSOLOFLUTE.pickle\"\n",
    "piecesAudio = unpickle(pickleFile)\n",
    "print(len(piecesAudio))"
   ]
  },
  {
   "cell_type": "code",
   "execution_count": null,
   "metadata": {
    "collapsed": true
   },
   "outputs": [],
   "source": []
  }
 ],
 "metadata": {
  "kernelspec": {
   "display_name": "Python 3",
   "language": "python",
   "name": "python3"
  },
  "language_info": {
   "codemirror_mode": {
    "name": "ipython",
    "version": 3
   },
   "file_extension": ".py",
   "mimetype": "text/x-python",
   "name": "python",
   "nbconvert_exporter": "python",
   "pygments_lexer": "ipython3",
   "version": "3.6.1"
  }
 },
 "nbformat": 4,
 "nbformat_minor": 2
}
